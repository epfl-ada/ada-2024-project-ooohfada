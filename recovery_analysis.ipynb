{
 "cells": [
  {
   "cell_type": "code",
   "execution_count": null,
   "metadata": {},
   "outputs": [],
   "source": [
    "import pandas as pd\n",
    "import numpy as np\n",
    "import matplotlib.pyplot as plt\n",
    "import seaborn as sns\n",
    "import pickle\n",
    "\n",
    "from src.data.dataloader_functions import *\n",
    "from src.utils.results_utils import *\n",
    "from src.utils.recovery_analysis_utils import match_declines\n",
    "\n",
    "%load_ext autoreload\n",
    "%autoreload 2\n",
    "%reload_ext autoreload\n",
    "\n",
    "GREEN = '#2ca02c'\n",
    "RED = '#d62728'"
   ]
  },
  {
   "cell_type": "markdown",
   "metadata": {},
   "source": [
    "# Load the data"
   ]
  },
  {
   "cell_type": "code",
   "execution_count": null,
   "metadata": {},
   "outputs": [],
   "source": [
    "df_all_declines_original = pd.read_csv('data/decline_events_complete_-80pc.csv')\n",
    "df_channels = pd.read_csv('data/df_channels_en.tsv', sep='\\t', usecols=['channel', 'category_cc'], index_col='channel')\n",
    "df_data_processed = load_processed_data(usecols=['channel', 'week', 'subs', 'delta_videos', 'activity', 'views'])"
   ]
  },
  {
   "cell_type": "markdown",
   "metadata": {},
   "source": [
    "# Finding the outcome\n",
    "\n",
    "Using the duration of the decline, determine whether the YouTuber recovered or not."
   ]
  },
  {
   "cell_type": "code",
   "execution_count": null,
   "metadata": {},
   "outputs": [],
   "source": [
    "df_all_declines = df_all_declines_original.copy()\n",
    "\n",
    "# If the decline is longer than 3 months without recovery, we consider the YouTuber was not successful in handling it.\n",
    "# Our aim is to find strategies that lead to quick recoveries, therefore taking more than 3 months would be considered unsuccessful.\n",
    "RECOVERY_THRESHOLD = 4 * 4\n",
    "\n",
    "# Add the decline outcome\n",
    "df_all_declines['Recovered'] = df_all_declines['Duration'] < RECOVERY_THRESHOLD\n",
    "\n",
    "# Split the tuple (decline start, decline end) into two separate columns\n",
    "df_all_declines['Event'] = df_all_declines['Event'].apply(lambda s: [int(week_id) for week_id in s[1:-1].split(', ')]) # TODO why is it a string in the first place?\n",
    "df_all_declines['Start'] = df_all_declines['Event'].apply(lambda e: e[0])\n",
    "df_all_declines['End'] = df_all_declines['Event'].apply(lambda e: e[1])\n",
    "df_all_declines.drop('Event', axis=1, inplace=True)\n",
    "\n",
    "# Add the channel category\n",
    "df_all_declines['Category'] = df_all_declines['Channel'].apply(lambda c: df_channels.loc[c]['category_cc'])\n",
    "\n",
    "# Add the channel's subs at the start of the decline\n",
    "decline_index = list(zip(df_all_declines['Channel'], df_all_declines['Start']))\n",
    "df_all_declines['Subs_start'] = df_data_processed.loc[decline_index, 'subs'].values\n",
    "\n",
    "# Add the activity at the start of the decline\n",
    "df_all_declines['Activity_start'] = df_data_processed.loc[decline_index, 'activity'].values\n",
    "\n",
    "# Add the delta videos at the start of the decline\n",
    "df_all_declines['Delta_videos'] = df_data_processed.loc[decline_index, 'delta_videos'].values\n",
    "\n",
    "# Add the channel's subs at the start of the decline\n",
    "df_all_declines['Views_start'] = df_data_processed.loc[decline_index, 'views'].values\n",
    "\n",
    "df_all_declines.head()"
   ]
  },
  {
   "cell_type": "markdown",
   "metadata": {},
   "source": [
    "# How is the recovery distributed?\n",
    "\n",
    "To get a first idea of what factors come into play when a YouTuber tries to recover from a decline, we make the dataset balanced by using a matched observational study."
   ]
  },
  {
   "cell_type": "code",
   "execution_count": null,
   "metadata": {},
   "outputs": [],
   "source": [
    "plt.figure(figsize=(13, 5))\n",
    "ax = plt.subplot(1, 2, 1)\n",
    "\n",
    "# show percentage and count of recovered vs not recovered\n",
    "counts = df_all_declines['Recovered'].value_counts(normalize=False)\n",
    "\n",
    "sns.barplot(x=counts.index, y=counts.values, hue=counts.index, palette=[RED, GREEN], legend=False)\n",
    "plt.title('Recovery after a decline')\n",
    "plt.xticks([0, 1], ['No', 'Yes'])\n",
    "plt.yticks([100000, 200000, 300000], ['100k', '200k', '300k'])\n",
    "plt.xlabel('Managed to recover from the decline')\n",
    "plt.ylabel('Count')\n",
    "plt.ylim(0, max(counts) * 1.1)\n",
    "\n",
    "# add text with the percentage\n",
    "for i, count in enumerate(counts):\n",
    "    plt.text(i, count, count, ha='center', va='bottom')\n",
    "\n",
    "ax = plt.subplot(1, 2, 2)\n",
    "\n",
    "# bar plot with categories\n",
    "counts = df_all_declines.groupby('Category')['Recovered'].value_counts(normalize=True).unstack().fillna(0) * 100\n",
    "# add mean line\n",
    "mean =  (1 - df_all_declines['Recovered'].mean()) * 100\n",
    "plt.axhline(mean, color='black', linestyle='--', linewidth=1)\n",
    "counts.plot(kind='bar', stacked=True, color=[RED, GREEN], ax=ax, legend=False)\n",
    "plt.title('Proportion of successful recoveries by category')\n",
    "plt.xlabel('Category')\n",
    "plt.ylim(0, 100)\n",
    "plt.ylabel('Percentage')\n",
    "plt.yticks([0, 20, 40, 60, 80, 100], ['0%', '20%', '40%', '60%', '80%', '100%'])\n",
    "\n",
    "# put the mean on the right\n",
    "ax_right = plt.gca().twinx()\n",
    "ax_right.set_ylim(0, 100)\n",
    "ax_right.set_yticks([mean])\n",
    "ax_right.set_yticklabels([f'{mean:.2f}%'])\n",
    "ax.legend([f'Mean over all declines', 'Not recovered', 'Recovered'], loc='lower center')\n",
    "\n",
    "plt.show()"
   ]
  },
  {
   "cell_type": "code",
   "execution_count": null,
   "metadata": {},
   "outputs": [],
   "source": [
    "plt.figure(figsize=(14, 8))\n",
    "\n",
    "ax = plt.subplot(2, 2, 1)\n",
    "\n",
    "sns.histplot(data=df_all_declines, x=\"Subs_start\", hue=\"Recovered\", log_scale=True, element=\"step\", palette=[RED, GREEN], ax=ax)\n",
    "\n",
    "plt.title('Distribution of channels by subscribers\\nat the start of the decline')\n",
    "plt.xlabel('Subscribers at the start of the decline')\n",
    "plt.ylabel('Number of channels')\n",
    "\n",
    "ax = plt.subplot(2, 2, 2)\n",
    "\n",
    "sns.histplot(data=df_all_declines, x=\"Views_start\", hue=\"Recovered\", log_scale=True, element=\"step\", palette=[RED, GREEN], ax=ax)\n",
    "\n",
    "plt.title('Distribution of channels by total number of\\nviews at the start of the decline')\n",
    "plt.xlabel('Views at the start of the decline')\n",
    "plt.ylabel('Number of channels')\n",
    "\n",
    "ax = plt.subplot(2, 2, 3)\n",
    "\n",
    "sns.histplot(data=df_all_declines, x=\"Activity_start\", hue=\"Recovered\", log_scale=True, element=\"step\", palette=[RED, GREEN], ax=ax)\n",
    "\n",
    "plt.title('Distribution of channels by activity\\nat the start of the decline')\n",
    "plt.xlabel('Activity at the start of the decline')\n",
    "plt.ylabel('Number of channels')\n",
    "\n",
    "ax = plt.subplot(2, 2, 4)\n",
    "\n",
    "sns.histplot(data=df_all_declines, x=\"Delta_videos\", hue=\"Recovered\", log_scale=True, element=\"step\", palette=[RED, GREEN], ax=ax)\n",
    "\n",
    "plt.title('Distribution of channels by delta videos\\nat the start of the decline')\n",
    "plt.xlabel('Delta videos at the start of the decline')\n",
    "plt.ylabel('Number of channels')\n",
    "\n",
    "plt.tight_layout()\n",
    "plt.show()"
   ]
  },
  {
   "cell_type": "markdown",
   "metadata": {},
   "source": [
    "Since we can observe that some features are not balanced between the treatment and control groups, especially views and subscribers at the start of the decline, we will perform matching between the two groups."
   ]
  },
  {
   "cell_type": "code",
   "execution_count": null,
   "metadata": {},
   "outputs": [],
   "source": [
    "print(df_all_declines['Recovered'].value_counts())\n",
    "print(f\"\\nTotal number of declines: {len(df_all_declines)}\")"
   ]
  },
  {
   "cell_type": "markdown",
   "metadata": {},
   "source": [
    "Considering the size of the dataset, we use random sampling to ease the matching's computation.\n",
    "\n",
    "To check that sampling does not mess with the distribution of recoveries, we plot them depending on the sampling proportion."
   ]
  },
  {
   "cell_type": "code",
   "execution_count": null,
   "metadata": {},
   "outputs": [],
   "source": [
    "# Make the code reproducible\n",
    "SEED = 42\n",
    "np.random.seed(SEED)\n",
    "\n",
    "# Sample the data at different sampling rates\n",
    "sample_proportions = np.linspace(0.01, 1, 100)\n",
    "new_dfs = {}\n",
    "for prop in sample_proportions:\n",
    "    new_dfs[prop] = df_all_declines.sample(frac=prop, replace=False)\n",
    "\n",
    "# Plot the recovery rates\n",
    "recovered_props = [new_dfs[prop]['Recovered'].mean() for prop in sample_proportions]\n",
    "unrecovered_props = [1 - prop for prop in recovered_props]\n",
    "plt.figure(figsize=(6, 2))\n",
    "plt.plot(sample_proportions, recovered_props, label='Recovered', color=GREEN)\n",
    "plt.plot(sample_proportions, unrecovered_props, label='Not recovered', color=RED)\n",
    "plt.xlabel('Sample proportion')\n",
    "plt.ylabel('Proportion of declines')\n",
    "plt.legend()\n",
    "plt.show()"
   ]
  },
  {
   "cell_type": "markdown",
   "metadata": {},
   "source": [
    "We choose to sample 30% of the data since the distribution of recoveries is left mostly unchanged, and it allows to keep a representative sample of the data."
   ]
  },
  {
   "cell_type": "code",
   "execution_count": null,
   "metadata": {},
   "outputs": [],
   "source": [
    "df_sampled = new_dfs[0.3]\n",
    "\n",
    "print(df_sampled['Recovered'].value_counts())\n",
    "print(f\"\\nTotal number of declines after sampling: {len(df_sampled)}\")"
   ]
  },
  {
   "cell_type": "markdown",
   "metadata": {},
   "source": [
    "### Propensity score matching"
   ]
  },
  {
   "cell_type": "code",
   "execution_count": null,
   "metadata": {},
   "outputs": [],
   "source": [
    "df_matched = match_declines(df_sampled)"
   ]
  },
  {
   "cell_type": "markdown",
   "metadata": {},
   "source": [
    "The number of subscribers, as well as the channel's category, do not seem to have an impact on the outcome."
   ]
  },
  {
   "cell_type": "markdown",
   "metadata": {},
   "source": [
    "# YouTuber reactions\n",
    "\n",
    "As we want to find the best ways to deal with a decline depending on the situation, we then take a look at how the YouTubers reacted to the decline, and what methods proved effective."
   ]
  }
 ],
 "metadata": {
  "kernelspec": {
   "display_name": "Python 3.11.5 ('base')",
   "language": "python",
   "name": "python3"
  },
  "language_info": {
   "codemirror_mode": {
    "name": "ipython",
    "version": 3
   },
   "file_extension": ".py",
   "mimetype": "text/x-python",
   "name": "python",
   "nbconvert_exporter": "python",
   "pygments_lexer": "ipython3",
   "version": "3.11.5"
  },
  "vscode": {
   "interpreter": {
    "hash": "a0e1149b368948483ad8be8b862c6f732e16cbaf1c0649bad84c01d059b3736d"
   }
  }
 },
 "nbformat": 4,
 "nbformat_minor": 2
}
