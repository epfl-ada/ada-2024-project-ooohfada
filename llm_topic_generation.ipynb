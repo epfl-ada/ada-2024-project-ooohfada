{
 "cells": [
  {
   "cell_type": "code",
   "execution_count": 8,
   "metadata": {},
   "outputs": [],
   "source": [
    "import pandas as pd\n",
    "from tqdm import tqdm\n",
    "import re\n",
    "import json\n",
    "\n",
    "from src.models.llm_call_helpers import *"
   ]
  },
  {
   "cell_type": "markdown",
   "metadata": {},
   "source": [
    "# Load data"
   ]
  },
  {
   "cell_type": "code",
   "execution_count": 6,
   "metadata": {},
   "outputs": [
    {
     "data": {
      "text/html": [
       "<div>\n",
       "<style scoped>\n",
       "    .dataframe tbody tr th:only-of-type {\n",
       "        vertical-align: middle;\n",
       "    }\n",
       "\n",
       "    .dataframe tbody tr th {\n",
       "        vertical-align: top;\n",
       "    }\n",
       "\n",
       "    .dataframe thead th {\n",
       "        text-align: right;\n",
       "    }\n",
       "</style>\n",
       "<table border=\"1\" class=\"dataframe\">\n",
       "  <thead>\n",
       "    <tr style=\"text-align: right;\">\n",
       "      <th></th>\n",
       "      <th>Topic</th>\n",
       "      <th>Words</th>\n",
       "    </tr>\n",
       "  </thead>\n",
       "  <tbody>\n",
       "    <tr>\n",
       "      <th>0</th>\n",
       "      <td>0</td>\n",
       "      <td>0.057*\"beat\" + 0.041*\"type\" + 0.036*\"nintendo\"...</td>\n",
       "    </tr>\n",
       "    <tr>\n",
       "      <th>1</th>\n",
       "      <td>1</td>\n",
       "      <td>0.049*\"minecraft\" + 0.039*\"dota\" + 0.034*\"blac...</td>\n",
       "    </tr>\n",
       "    <tr>\n",
       "      <th>2</th>\n",
       "      <td>2</td>\n",
       "      <td>0.094*\"fifa\" + 0.075*\"18\" + 0.067*\"19\" + 0.045...</td>\n",
       "    </tr>\n",
       "    <tr>\n",
       "      <th>3</th>\n",
       "      <td>3</td>\n",
       "      <td>0.016*\"news\" + 0.015*\"trump\" + 0.009*\"house\" +...</td>\n",
       "    </tr>\n",
       "    <tr>\n",
       "      <th>4</th>\n",
       "      <td>4</td>\n",
       "      <td>0.067*\"gta\" + 0.055*\"5\" + 0.046*\"online\" + 0.0...</td>\n",
       "    </tr>\n",
       "    <tr>\n",
       "      <th>5</th>\n",
       "      <td>5</td>\n",
       "      <td>0.042*\"art\" + 0.033*\"2017\" + 0.029*\"tarot\" + 0...</td>\n",
       "    </tr>\n",
       "    <tr>\n",
       "      <th>6</th>\n",
       "      <td>6</td>\n",
       "      <td>0.045*\"funny\" + 0.023*\"video\" + 0.023*\"roblox\"...</td>\n",
       "    </tr>\n",
       "    <tr>\n",
       "      <th>7</th>\n",
       "      <td>7</td>\n",
       "      <td>0.025*\"vlog\" + 0.025*\"makeup\" + 0.014*\"haul\" +...</td>\n",
       "    </tr>\n",
       "    <tr>\n",
       "      <th>8</th>\n",
       "      <td>8</td>\n",
       "      <td>0.022*\"design\" + 0.016*\"make\" + 0.014*\"bitcoin...</td>\n",
       "    </tr>\n",
       "    <tr>\n",
       "      <th>9</th>\n",
       "      <td>9</td>\n",
       "      <td>0.134*\"fortnite\" + 0.037*\"battle\" + 0.036*\"roy...</td>\n",
       "    </tr>\n",
       "    <tr>\n",
       "      <th>10</th>\n",
       "      <td>10</td>\n",
       "      <td>0.058*\"v\" + 0.045*\"wwe\" + 0.024*\"sport\" + 0.01...</td>\n",
       "    </tr>\n",
       "    <tr>\n",
       "      <th>11</th>\n",
       "      <td>11</td>\n",
       "      <td>0.013*\"movie\" + 0.013*\"review\" + 0.013*\"season...</td>\n",
       "    </tr>\n",
       "    <tr>\n",
       "      <th>12</th>\n",
       "      <td>12</td>\n",
       "      <td>0.083*\"news\" + 0.026*\"video\" + 0.024*\"movie\" +...</td>\n",
       "    </tr>\n",
       "    <tr>\n",
       "      <th>13</th>\n",
       "      <td>13</td>\n",
       "      <td>0.030*\"league\" + 0.023*\"legend\" + 0.020*\"lol\" ...</td>\n",
       "    </tr>\n",
       "    <tr>\n",
       "      <th>14</th>\n",
       "      <td>14</td>\n",
       "      <td>0.056*\"nba\" + 0.042*\"madden\" + 0.022*\"basketba...</td>\n",
       "    </tr>\n",
       "    <tr>\n",
       "      <th>15</th>\n",
       "      <td>15</td>\n",
       "      <td>0.070*\"music\" + 0.044*\"reaction\" + 0.041*\"song...</td>\n",
       "    </tr>\n",
       "    <tr>\n",
       "      <th>16</th>\n",
       "      <td>16</td>\n",
       "      <td>0.064*\"2\" + 0.031*\"destiny\" + 0.019*\"clash\" + ...</td>\n",
       "    </tr>\n",
       "    <tr>\n",
       "      <th>17</th>\n",
       "      <td>17</td>\n",
       "      <td>0.066*\"pokemon\" + 0.025*\"android\" + 0.019*\"mob...</td>\n",
       "    </tr>\n",
       "    <tr>\n",
       "      <th>18</th>\n",
       "      <td>18</td>\n",
       "      <td>0.058*\"kid\" + 0.038*\"family\" + 0.033*\"toy\" + 0...</td>\n",
       "    </tr>\n",
       "    <tr>\n",
       "      <th>19</th>\n",
       "      <td>19</td>\n",
       "      <td>0.070*\"game\" + 0.039*\"gameplay\" + 0.027*\"play\"...</td>\n",
       "    </tr>\n",
       "  </tbody>\n",
       "</table>\n",
       "</div>"
      ],
      "text/plain": [
       "    Topic                                              Words\n",
       "0       0  0.057*\"beat\" + 0.041*\"type\" + 0.036*\"nintendo\"...\n",
       "1       1  0.049*\"minecraft\" + 0.039*\"dota\" + 0.034*\"blac...\n",
       "2       2  0.094*\"fifa\" + 0.075*\"18\" + 0.067*\"19\" + 0.045...\n",
       "3       3  0.016*\"news\" + 0.015*\"trump\" + 0.009*\"house\" +...\n",
       "4       4  0.067*\"gta\" + 0.055*\"5\" + 0.046*\"online\" + 0.0...\n",
       "5       5  0.042*\"art\" + 0.033*\"2017\" + 0.029*\"tarot\" + 0...\n",
       "6       6  0.045*\"funny\" + 0.023*\"video\" + 0.023*\"roblox\"...\n",
       "7       7  0.025*\"vlog\" + 0.025*\"makeup\" + 0.014*\"haul\" +...\n",
       "8       8  0.022*\"design\" + 0.016*\"make\" + 0.014*\"bitcoin...\n",
       "9       9  0.134*\"fortnite\" + 0.037*\"battle\" + 0.036*\"roy...\n",
       "10     10  0.058*\"v\" + 0.045*\"wwe\" + 0.024*\"sport\" + 0.01...\n",
       "11     11  0.013*\"movie\" + 0.013*\"review\" + 0.013*\"season...\n",
       "12     12  0.083*\"news\" + 0.026*\"video\" + 0.024*\"movie\" +...\n",
       "13     13  0.030*\"league\" + 0.023*\"legend\" + 0.020*\"lol\" ...\n",
       "14     14  0.056*\"nba\" + 0.042*\"madden\" + 0.022*\"basketba...\n",
       "15     15  0.070*\"music\" + 0.044*\"reaction\" + 0.041*\"song...\n",
       "16     16  0.064*\"2\" + 0.031*\"destiny\" + 0.019*\"clash\" + ...\n",
       "17     17  0.066*\"pokemon\" + 0.025*\"android\" + 0.019*\"mob...\n",
       "18     18  0.058*\"kid\" + 0.038*\"family\" + 0.033*\"toy\" + 0...\n",
       "19     19  0.070*\"game\" + 0.039*\"gameplay\" + 0.027*\"play\"..."
      ]
     },
     "execution_count": 6,
     "metadata": {},
     "output_type": "execute_result"
    }
   ],
   "source": [
    "LDA_topics = pd.read_csv('data/lda_topics.csv')\n",
    "\n",
    "LDA_topics"
   ]
  },
  {
   "cell_type": "markdown",
   "metadata": {},
   "source": [
    "# Generate topics name using LLM"
   ]
  },
  {
   "cell_type": "code",
   "execution_count": 10,
   "metadata": {},
   "outputs": [
    {
     "name": "stderr",
     "output_type": "stream",
     "text": [
      "  5%|▌         | 1/20 [00:04<01:26,  4.58s/it]"
     ]
    },
    {
     "name": "stdout",
     "output_type": "stream",
     "text": [
      " Nintendo Switch Games \n"
     ]
    },
    {
     "name": "stderr",
     "output_type": "stream",
     "text": [
      " 10%|█         | 2/20 [00:06<00:49,  2.74s/it]"
     ]
    },
    {
     "name": "stdout",
     "output_type": "stream",
     "text": [
      " Gaming & Multiplayer Games\n"
     ]
    },
    {
     "name": "stderr",
     "output_type": "stream",
     "text": [
      " 15%|█▌        | 3/20 [00:07<00:37,  2.20s/it]"
     ]
    },
    {
     "name": "stdout",
     "output_type": "stream",
     "text": [
      " Football Games \n"
     ]
    },
    {
     "name": "stderr",
     "output_type": "stream",
     "text": [
      " 20%|██        | 4/20 [00:09<00:30,  1.92s/it]"
     ]
    },
    {
     "name": "stdout",
     "output_type": "stream",
     "text": [
      " Politics\n"
     ]
    },
    {
     "name": "stderr",
     "output_type": "stream",
     "text": [
      " 25%|██▌       | 5/20 [00:10<00:26,  1.75s/it]"
     ]
    },
    {
     "name": "stdout",
     "output_type": "stream",
     "text": [
      " GTA V Gameplay\n"
     ]
    },
    {
     "name": "stderr",
     "output_type": "stream",
     "text": [
      " 30%|███       | 6/20 [00:12<00:24,  1.73s/it]"
     ]
    },
    {
     "name": "stdout",
     "output_type": "stream",
     "text": [
      " Art and Spirituality\n"
     ]
    },
    {
     "name": "stderr",
     "output_type": "stream",
     "text": [
      " 35%|███▌      | 7/20 [00:13<00:21,  1.68s/it]"
     ]
    },
    {
     "name": "stdout",
     "output_type": "stream",
     "text": [
      " Funny\n"
     ]
    },
    {
     "name": "stderr",
     "output_type": "stream",
     "text": [
      " 40%|████      | 8/20 [00:15<00:18,  1.57s/it]"
     ]
    },
    {
     "name": "stdout",
     "output_type": "stream",
     "text": [
      " Beauty & Lifestyle Vlog\n"
     ]
    },
    {
     "name": "stderr",
     "output_type": "stream",
     "text": [
      " 45%|████▌     | 9/20 [00:16<00:17,  1.59s/it]"
     ]
    },
    {
     "name": "stdout",
     "output_type": "stream",
     "text": [
      " Design & DIY\n"
     ]
    },
    {
     "name": "stderr",
     "output_type": "stream",
     "text": [
      " 50%|█████     | 10/20 [00:18<00:15,  1.52s/it]"
     ]
    },
    {
     "name": "stdout",
     "output_type": "stream",
     "text": [
      " Fortnite Gameplay\n"
     ]
    },
    {
     "name": "stderr",
     "output_type": "stream",
     "text": [
      " 55%|█████▌    | 11/20 [00:19<00:13,  1.48s/it]"
     ]
    },
    {
     "name": "stdout",
     "output_type": "stream",
     "text": [
      " WWE Sports\n"
     ]
    },
    {
     "name": "stderr",
     "output_type": "stream",
     "text": [
      " 60%|██████    | 12/20 [00:20<00:11,  1.47s/it]"
     ]
    },
    {
     "name": "stdout",
     "output_type": "stream",
     "text": [
      " Movie Reviews\n"
     ]
    },
    {
     "name": "stderr",
     "output_type": "stream",
     "text": [
      " 65%|██████▌   | 13/20 [00:23<00:12,  1.75s/it]"
     ]
    },
    {
     "name": "stdout",
     "output_type": "stream",
     "text": [
      " News\n"
     ]
    },
    {
     "name": "stderr",
     "output_type": "stream",
     "text": [
      " 70%|███████   | 14/20 [00:24<00:10,  1.71s/it]"
     ]
    },
    {
     "name": "stdout",
     "output_type": "stream",
     "text": [
      " League of Legends\n"
     ]
    },
    {
     "name": "stderr",
     "output_type": "stream",
     "text": [
      " 75%|███████▌  | 15/20 [00:26<00:08,  1.76s/it]"
     ]
    },
    {
     "name": "stdout",
     "output_type": "stream",
     "text": [
      " Video Game Sports \n"
     ]
    },
    {
     "name": "stderr",
     "output_type": "stream",
     "text": [
      " 80%|████████  | 16/20 [00:28<00:06,  1.65s/it]"
     ]
    },
    {
     "name": "stdout",
     "output_type": "stream",
     "text": [
      " Music Reactions\n"
     ]
    },
    {
     "name": "stderr",
     "output_type": "stream",
     "text": [
      " 85%|████████▌ | 17/20 [00:29<00:04,  1.63s/it]"
     ]
    },
    {
     "name": "stdout",
     "output_type": "stream",
     "text": [
      " Video Game Guides\n"
     ]
    },
    {
     "name": "stderr",
     "output_type": "stream",
     "text": [
      " 90%|█████████ | 18/20 [00:31<00:03,  1.59s/it]"
     ]
    },
    {
     "name": "stdout",
     "output_type": "stream",
     "text": [
      " Pokemon\n"
     ]
    },
    {
     "name": "stderr",
     "output_type": "stream",
     "text": [
      " 95%|█████████▌| 19/20 [00:32<00:01,  1.59s/it]"
     ]
    },
    {
     "name": "stdout",
     "output_type": "stream",
     "text": [
      " Kids\n"
     ]
    },
    {
     "name": "stderr",
     "output_type": "stream",
     "text": [
      "100%|██████████| 20/20 [00:34<00:00,  1.72s/it]"
     ]
    },
    {
     "name": "stdout",
     "output_type": "stream",
     "text": [
      " Gameplay\n",
      "{0: ' Nintendo Switch Games ', 1: ' Gaming & Multiplayer Games', 2: ' Football Games ', 3: ' Politics', 4: ' GTA V Gameplay', 5: ' Art and Spirituality', 6: ' Funny', 7: ' Beauty & Lifestyle Vlog', 8: ' Design & DIY', 9: ' Fortnite Gameplay', 10: ' WWE Sports', 11: ' Movie Reviews', 12: ' News', 13: ' League of Legends', 14: ' Video Game Sports ', 15: ' Music Reactions', 16: ' Video Game Guides', 17: ' Pokemon', 18: ' Kids', 19: ' Gameplay'}\n"
     ]
    },
    {
     "name": "stderr",
     "output_type": "stream",
     "text": [
      "\n"
     ]
    }
   ],
   "source": [
    "#create a dictionary of LDA topics where 'Topic' column is the key and the answer from the llm is the value\n",
    "\n",
    "LLM_topics = dict()\n",
    "\n",
    "for i in tqdm(range(len(LDA_topics))):\n",
    "    tokens_distrib = LDA_topics['Words'][i]\n",
    "    llm_topic = generate_topic_name(tokens_distrib)\n",
    "\n",
    "    # Output treatment\n",
    "    llm_topic = re.sub(r'\\([^)]*\\)', '', llm_topic) # Delete parenthesis and content\n",
    "    # If ',' or '/', then suppress everything after\n",
    "    llm_topic = re.sub(r'[,/].*', '', llm_topic)\n",
    "\n",
    "    print(llm_topic)\n",
    "    LLM_topics[i] = llm_topic\n",
    "\n",
    "\n",
    "print(LLM_topics)\n",
    "\n",
    "\n"
   ]
  },
  {
   "cell_type": "code",
   "execution_count": 11,
   "metadata": {},
   "outputs": [],
   "source": [
    "# Save the dictionary\n",
    "\n",
    "with open('data/LLM_topics.json', 'w') as f:\n",
    "    json.dump(LLM_topics, f)"
   ]
  },
  {
   "cell_type": "code",
   "execution_count": null,
   "metadata": {},
   "outputs": [],
   "source": []
  }
 ],
 "metadata": {
  "kernelspec": {
   "display_name": "Python 3",
   "language": "python",
   "name": "python3"
  },
  "language_info": {
   "codemirror_mode": {
    "name": "ipython",
    "version": 3
   },
   "file_extension": ".py",
   "mimetype": "text/x-python",
   "name": "python",
   "nbconvert_exporter": "python",
   "pygments_lexer": "ipython3",
   "version": "3.9.6"
  }
 },
 "nbformat": 4,
 "nbformat_minor": 2
}
