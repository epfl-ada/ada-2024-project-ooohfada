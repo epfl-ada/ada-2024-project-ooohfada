{
 "cells": [
  {
   "cell_type": "code",
   "execution_count": 93,
   "metadata": {},
   "outputs": [],
   "source": [
    "import pandas as pd\n",
    "import numpy as np\n",
    "import os\n",
    "\n",
    "# copied from dataloader because of path issues in notebook\n",
    "def load_raw_data(filename, n_first_rows):\n",
    "    \"\"\"\n",
    "    Load the raw data from the file and return the first n_first_rows\n",
    "    Parameters:\n",
    "    filename (str): the name of the file to load\n",
    "    n_first_rows (int): the number of rows to load\n",
    "    Return:\n",
    "    df (pd.DataFrame): the first n_first_rows of the file\n",
    "    \"\"\"\n",
    "    \n",
    "    df_timeseries = pd.read_csv(f'./../../data/{filename}', sep='\\t', compression='infer', nrows=n_first_rows)\n",
    "    df_timeseries['datetime'] = pd.to_datetime(df_timeseries['datetime'])\n",
    "\n",
    "    return df_timeseries"
   ]
  },
  {
   "cell_type": "code",
   "execution_count": 94,
   "metadata": {},
   "outputs": [],
   "source": [
    "# Load the time series data\n",
    "df_timeseries = load_raw_data('df_timeseries_en.tsv', 1000)\n",
    "\n",
    "# Convert the datetime column to datetime format\n",
    "df_timeseries['datetime'] = pd.to_datetime(df_timeseries['datetime'])"
   ]
  },
  {
   "cell_type": "code",
   "execution_count": 95,
   "metadata": {},
   "outputs": [
    {
     "name": "stdout",
     "output_type": "stream",
     "text": [
      "2016-03-21 00:00:00\n"
     ]
    }
   ],
   "source": [
    "# Compute the week index from the first date in the dataset\n",
    "\n",
    "# Get the first date in the dataset\n",
    "first_date = df_timeseries['datetime'].min()\n",
    "print(first_date)\n",
    "\n",
    "# Compute the week index\n",
    "df_timeseries['week_index'] = df_timeseries['datetime'].apply(lambda x: (x - first_date).days // 7)"
   ]
  },
  {
   "cell_type": "code",
   "execution_count": 96,
   "metadata": {},
   "outputs": [
    {
     "name": "stdout",
     "output_type": "stream",
     "text": [
      "              datetime  week_index\n",
      "0  2016-03-21 00:00:00           0\n",
      "1  2016-03-28 01:00:00           1\n",
      "2  2016-04-04 01:00:00           2\n",
      "3  2016-04-11 01:00:00           3\n",
      "4  2016-04-18 01:00:00           4\n",
      "5  2016-04-25 01:00:00           5\n",
      "6  2016-05-02 01:00:00           6\n",
      "7  2016-05-09 01:00:00           7\n",
      "8  2016-05-16 01:00:00           8\n",
      "9  2016-05-23 01:00:00           9\n",
      "10 2016-05-30 01:00:00          10\n",
      "11 2016-06-06 00:00:00          11\n",
      "12 2016-06-06 01:00:00          11\n",
      "13 2016-06-13 00:00:00          12\n",
      "14 2016-06-13 01:00:00          12\n",
      "15 2016-06-20 00:00:00          13\n",
      "16 2016-06-20 01:00:00          13\n",
      "17 2016-06-27 00:00:00          14\n",
      "18 2016-06-27 01:00:00          14\n",
      "19 2016-07-04 00:00:00          15\n",
      "20 2016-07-04 01:00:00          15\n",
      "21 2016-07-11 00:00:00          16\n",
      "22 2016-07-11 01:00:00          16\n",
      "23 2016-07-18 00:00:00          17\n",
      "24 2016-07-18 01:00:00          17\n",
      "25 2016-07-25 00:00:00          18\n",
      "26 2016-07-25 01:00:00          18\n",
      "27 2016-08-01 00:00:00          19\n",
      "28 2016-08-01 00:00:00          19\n",
      "29 2016-08-01 01:00:00          19\n",
      "30 2016-08-08 00:00:00          20\n",
      "31 2016-08-08 00:00:00          20\n",
      "32 2016-08-08 01:00:00          20\n",
      "33 2016-08-15 00:00:00          21\n",
      "34 2016-08-15 00:00:00          21\n",
      "35 2016-08-15 01:00:00          21\n",
      "36 2016-08-22 00:00:00          22\n",
      "37 2016-08-22 00:00:00          22\n",
      "38 2016-08-22 01:00:00          22\n",
      "39 2016-08-29 00:00:00          23\n",
      "40 2016-08-29 00:00:00          23\n",
      "41 2016-08-29 01:00:00          23\n",
      "42 2016-09-05 00:00:00          24\n",
      "43 2016-09-05 00:00:00          24\n",
      "44 2016-09-05 01:00:00          24\n",
      "45 2016-09-12 00:00:00          25\n",
      "46 2016-09-12 00:00:00          25\n",
      "47 2016-09-12 01:00:00          25\n",
      "48 2016-09-19 00:00:00          26\n",
      "49 2016-09-19 00:00:00          26\n"
     ]
    }
   ],
   "source": [
    "df_timeseries.sort_values(by='datetime', inplace=True)\n",
    "df_timeseries.reset_index(drop=True, inplace=True)\n",
    "print(df_timeseries[['datetime', 'week_index']].head(50))"
   ]
  },
  {
   "cell_type": "code",
   "execution_count": 88,
   "metadata": {},
   "outputs": [
    {
     "name": "stdout",
     "output_type": "stream",
     "text": [
      "              datetime  week_index\n",
      "0  2016-03-21 00:00:00           0\n",
      "1  2016-03-28 01:00:00           1\n",
      "2  2016-04-04 01:00:00           2\n",
      "3  2016-04-11 01:00:00           3\n",
      "4  2016-04-18 01:00:00           4\n",
      "5  2016-04-25 01:00:00           5\n",
      "6  2016-05-02 01:00:00           6\n",
      "7  2016-05-09 01:00:00           7\n",
      "8  2016-05-16 01:00:00           8\n",
      "9  2016-05-23 01:00:00           9\n",
      "10 2016-05-30 01:00:00          10\n",
      "11 2016-06-06 00:00:00          11\n",
      "12 2016-06-06 01:00:00          11\n",
      "13 2016-06-13 00:00:00          12\n",
      "14 2016-06-13 01:00:00          12\n",
      "15 2016-06-20 00:00:00          13\n",
      "16 2016-06-20 01:00:00          13\n",
      "17 2016-06-27 00:00:00          14\n",
      "18 2016-06-27 01:00:00          14\n",
      "19 2016-07-04 00:00:00          15\n",
      "20 2016-07-04 01:00:00          15\n",
      "21 2016-07-11 00:00:00          16\n",
      "22 2016-07-11 01:00:00          16\n",
      "23 2016-07-18 00:00:00          17\n",
      "24 2016-07-18 01:00:00          17\n",
      "25 2016-07-25 00:00:00          18\n",
      "26 2016-07-25 01:00:00          18\n",
      "27 2016-08-01 00:00:00          19\n",
      "28 2016-08-01 00:00:00          19\n",
      "29 2016-08-01 01:00:00          19\n",
      "30 2016-08-08 00:00:00          20\n",
      "31 2016-08-08 00:00:00          20\n",
      "32 2016-08-08 01:00:00          20\n",
      "33 2016-08-15 00:00:00          21\n",
      "34 2016-08-15 00:00:00          21\n",
      "35 2016-08-15 01:00:00          21\n",
      "36 2016-08-22 00:00:00          22\n",
      "37 2016-08-22 00:00:00          22\n",
      "38 2016-08-22 01:00:00          22\n",
      "39 2016-08-29 00:00:00          23\n",
      "40 2016-08-29 00:00:00          23\n",
      "41 2016-08-29 01:00:00          23\n",
      "42 2016-09-05 00:00:00          24\n",
      "43 2016-09-05 00:00:00          24\n",
      "44 2016-09-05 01:00:00          24\n",
      "45 2016-09-12 00:00:00          25\n",
      "46 2016-09-12 00:00:00          25\n",
      "47 2016-09-12 01:00:00          25\n",
      "48 2016-09-19 00:00:00          26\n",
      "49 2016-09-19 00:00:00          26\n"
     ]
    }
   ],
   "source": [
    "df_timeseries.groupby('week_index')\n",
    "print(df_timeseries[['datetime', 'week_index']].head(50))\n"
   ]
  },
  {
   "cell_type": "code",
   "execution_count": 100,
   "metadata": {},
   "outputs": [
    {
     "name": "stdout",
     "output_type": "stream",
     "text": [
      "               datetime  week_index\n",
      "11  2016-06-06 00:00:00          11\n",
      "12  2016-06-06 01:00:00          11\n",
      "13  2016-06-13 00:00:00          12\n",
      "14  2016-06-13 01:00:00          12\n",
      "15  2016-06-20 00:00:00          13\n",
      "..                  ...         ...\n",
      "995 2019-09-23 00:00:00         183\n",
      "996 2019-09-23 00:00:00         183\n",
      "997 2019-09-23 00:00:00         183\n",
      "998 2019-09-23 01:00:00         183\n",
      "999 2019-09-23 01:00:00         183\n",
      "\n",
      "[989 rows x 2 columns]\n"
     ]
    }
   ],
   "source": [
    "# Find and print rows with duplicate week indices\n",
    "duplicate_weeks = df_timeseries[df_timeseries.duplicated(subset=['week_index'], keep=False)]\n",
    "\n",
    "# Print the rows with 'datetime' and 'weekindex' columns\n",
    "print(duplicate_weeks[['datetime', 'week_index']])\n",
    "\n",
    "# TODO: Remove the duplicate rows from the dataset ? keep only 00:00:00 rows ?"
   ]
  },
  {
   "cell_type": "code",
   "execution_count": null,
   "metadata": {},
   "outputs": [],
   "source": []
  }
 ],
 "metadata": {
  "kernelspec": {
   "display_name": "Python 3.11.5 ('base')",
   "language": "python",
   "name": "python3"
  },
  "language_info": {
   "codemirror_mode": {
    "name": "ipython",
    "version": 3
   },
   "file_extension": ".py",
   "mimetype": "text/x-python",
   "name": "python",
   "nbconvert_exporter": "python",
   "pygments_lexer": "ipython3",
   "version": "3.11.5"
  },
  "vscode": {
   "interpreter": {
    "hash": "a0e1149b368948483ad8be8b862c6f732e16cbaf1c0649bad84c01d059b3736d"
   }
  }
 },
 "nbformat": 4,
 "nbformat_minor": 2
}
